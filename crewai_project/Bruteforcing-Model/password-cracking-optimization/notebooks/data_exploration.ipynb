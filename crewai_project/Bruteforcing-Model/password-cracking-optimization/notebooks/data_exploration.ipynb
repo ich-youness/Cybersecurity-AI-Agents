{
 "cells": [
  {
   "cell_type": "markdown",
   "metadata": {},
   "source": [
    "# Data Exploration of RockYou Dataset\n",
    "\n",
    "In this notebook, we will explore the RockYou password dataset to understand its structure, visualize patterns, and prepare for training our models."
   ]
  },
  {
   "cell_type": "code",
   "execution_count": null,
   "metadata": {
    "collapsed": false
   },
   "outputs": [],
   "source": [
    "# Import necessary libraries\n",
    "import pandas as pd\n",
    "import matplotlib.pyplot as plt\n",
    "import seaborn as sns\n",
    "\n",
    "# Set visualization style\n",
    "sns.set(style='whitegrid')"
   ]
  },
  {
   "cell_type": "code",
   "execution_count": null,
   "metadata": {
    "collapsed": false
   },
   "outputs": [],
   "source": [
    "# Load the RockYou dataset\n",
    "rockyou_path = '../data/raw/rockyou.txt'\n",
    "with open(rockyou_path, 'r', encoding='latin-1') as file:\n",
    "    passwords = file.readlines()\n",
    "\n",
    "# Clean the passwords\n",
    "passwords = [pwd.strip() for pwd in passwords if pwd.strip()]\n",
    "print(f'Total passwords loaded: {len(passwords)}')"
   ]
  },
  {
   "cell_type": "code",
   "execution_count": null,
   "metadata": {
    "collapsed": false
   },
   "outputs": [],
   "source": [
    "# Visualize password length distribution\n",
    "password_lengths = [len(pwd) for pwd in passwords]\n",
    "\n",
    "plt.figure(figsize=(12, 6))\n",
    "sns.histplot(password_lengths, bins=30, kde=True)\n",
    "plt.title('Password Length Distribution')\n",
    "plt.xlabel('Length')\n",
    "plt.ylabel('Frequency')\n",
    "plt.show()"
   ]
  },
  {
   "cell_type": "code",
   "execution_count": null,
   "metadata": {
    "collapsed": false
   },
   "outputs": [],
   "source": [
    "# Analyze common characters in passwords\n",
    "from collections import Counter\n",
    "\n",
    "all_chars = ''.join(passwords)\n",
    "char_counts = Counter(all_chars)\n",
    "common_chars = char_counts.most_common(10)\n",
    "\n",
    "# Plot common characters\n",
    "chars, counts = zip(*common_chars)\n",
    "plt.figure(figsize=(10, 5))\n",
    "sns.barplot(x=list(chars), y=list(counts))\n",
    "plt.title('Most Common Characters in Passwords')\n",
    "plt.xlabel('Characters')\n",
    "plt.ylabel('Frequency')\n",
    "plt.show()"
   ]
  },
  {
   "cell_type": "code",
   "execution_count": null,
   "metadata": {
    "collapsed": false
   },
   "outputs": [],
   "source": [
    "# Save processed passwords to CSV for further analysis\n",
    "processed_path = '../data/processed/passwords.csv'\n",
    "pd.DataFrame(passwords, columns=['password']).to_csv(processed_path, index=False)\n",
    "print(f'Processed passwords saved to {processed_path}')"
   ]
  }
 ],
 "metadata": {
  "kernelspec": {
   "display_name": "Python 3",
   "language": "python",
   "name": "python3"
  },
  "language_info": {
   "codemirror_mode": {
    "name": "ipython",
    "version": 3
   },
   "file_extension": ".py",
   "mimetype": "text/x-python",
   "name": "python",
   "nbconvert_exporter": "python",
   "pygments_lexer": "ipython3",
   "version": "3.8.5"
  }
 },
 "nbformat": 4,
 "nbformat_minor": 4
}