{
 "cells": [
  {
   "cell_type": "markdown",
   "metadata": {},
   "source": [
    "# Model Training\n",
    "\n",
    "This notebook is used for training the Markov Model and GAN on the RockYou password dataset. It documents the training process and results."
   ]
  },
  {
   "cell_type": "code",
   "execution_count": null,
   "metadata": {
    "collapsed": false
   },
   "outputs": [],
   "source": [
    "# Import necessary libraries\n",
    "import pandas as pd\n",
    "import numpy as np\n",
    "from train_markov_model import train_markov_model\n",
    "from train_gan import train_gan\n",
    "\n",
    "# Load the RockYou dataset\n",
    "rockyou_path = '../data/raw/rockyou.txt'\n",
    "with open(rockyou_path, 'r', encoding='latin-1') as file:\n",
    "    passwords = file.readlines()\n",
    "passwords = [p.strip() for p in passwords]\n",
    "\n",
    "# Train the Markov Model\n",
    "markov_model = train_markov_model(passwords)\n",
    "\n",
    "# Save the trained Markov Model\n",
    "import pickle\n",
    "with open('../models/markov_model/model.pkl', 'wb') as model_file:\n",
    "    pickle.dump(markov_model, model_file)\n",
    "\n",
    "# Train the GAN\n",
    "gan_model = train_gan(passwords)\n",
    "\n",
    "# Save the trained GAN model\n",
    "with open('../models/gan/gan_model.pkl', 'wb') as gan_file:\n",
    "    pickle.dump(gan_model, gan_file)\n",
    "\n",
    "# Document the training results\n",
    "print('Markov Model and GAN training completed successfully.')"
   ]
  }
 ],
 "metadata": {
  "kernelspec": {
   "display_name": "Python 3",
   "language": "python",
   "name": "python3"
  },
  "language_info": {
   "codemirror_mode": {
    "name": "ipython",
    "version": 3
   },
   "file_extension": ".py",
   "mimetype": "text/x-python",
   "name": "python",
   "nbconvert_exporter": "python",
   "pygments_lexer": "ipython3",
   "version": "3.8.5"
  }
 },
 "nbformat": 4,
 "nbformat_minor": 4
}